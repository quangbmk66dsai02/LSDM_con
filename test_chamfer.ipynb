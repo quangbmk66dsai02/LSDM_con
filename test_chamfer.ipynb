{
 "cells": [
  {
   "cell_type": "code",
   "execution_count": 11,
   "metadata": {},
   "outputs": [
    {
     "name": "stdout",
     "output_type": "stream",
     "text": [
      "S1 Tensor: tensor([[[0., 0., 0.],\n",
      "         [1., 1., 1.]]])\n",
      "S2 Tensor: tensor([[[1., 1., 1.],\n",
      "         [2., 2., 2.]]])\n",
      "Chamfer Distance: 1.7320507764816284\n"
     ]
    }
   ],
   "source": [
    "import torch\n",
    "\n",
    "def chamfer_distance(S1, S2):\n",
    "    \"\"\"\n",
    "    Compute the Chamfer distance between two sets of 3D points.\n",
    "    \n",
    "    Parameters:\n",
    "    S1: torch.Tensor of shape (1, 1024, 3)\n",
    "    S2: torch.Tensor of shape (1, 1024, 3)\n",
    "    \n",
    "    Returns:\n",
    "    float: Chamfer distance\n",
    "    \"\"\"\n",
    "    # Expand the dimensions of S1 and S2 for broadcasting\n",
    "    S1_expand = S1.unsqueeze(2)  # (1, 1024, 1, 3)\n",
    "    S2_expand = S2.unsqueeze(1)  # (1, 1, 1024, 3)\n",
    "    # print(\"this is expanding S1\", S1)\n",
    "    # print(\"this is expanding S2\", S2)\n",
    "\n",
    "    # Compute pairwise distances between points in S1 and S2\n",
    "    dists = torch.norm(S1_expand - S2_expand, dim=-1)  # (1, 1024, 1024)\n",
    "    # print(\"this is subtract operation result\", (S1_expand - S2_expand))\n",
    "    # print(\"this is dist\", dists)\n",
    "    # For each point in S1, find the nearest point in S2\n",
    "    min_dist_S1_to_S2, _ = torch.min(dists, dim=2)  # (1, 1024)\n",
    "    \n",
    "    # For each point in S2, find the nearest point in S1\n",
    "    min_dist_S2_to_S1, _ = torch.min(dists, dim=1)  # (1, 1024)\n",
    "    \n",
    "    # Sum of minimum distances\n",
    "    chamfer_dist = min_dist_S1_to_S2.mean() + min_dist_S2_to_S1.mean()\n",
    "    \n",
    "    return chamfer_dist.item()\n",
    "\n",
    "# Example usage\n",
    "S1 = torch.randn(1, 2, 3)  # Replace with your actual tensor\n",
    "S2 = torch.randn(1, 2, 3)  # Replace with your actual tensor\n",
    "\n",
    "S1 = [[0, 0, 0], [1,1,1]]\n",
    "S2 = [[1,1,1], [2,2,2]]\n",
    "\n",
    "S1_tensor = torch.tensor(S1, dtype=torch.float32).unsqueeze(0)  # Shape: (1, 2, 3)\n",
    "S2_tensor = torch.tensor(S2, dtype=torch.float32).unsqueeze(0)  # Shape: (1, 2, 3)\n",
    "\n",
    "print(\"S1 Tensor:\", S1_tensor)\n",
    "print(\"S2 Tensor:\", S2_tensor)\n",
    "\n",
    "dist = chamfer_distance(S1_tensor, S2_tensor)\n",
    "print(f'Chamfer Distance: {dist}')\n"
   ]
  },
  {
   "cell_type": "code",
   "execution_count": 14,
   "metadata": {},
   "outputs": [
    {
     "name": "stdout",
     "output_type": "stream",
     "text": [
      "S1.requires_grad: True\n",
      "S2.requires_grad: True\n",
      "S1.requires_grad: True\n",
      "S2.requires_grad: True\n",
      "tensor([[[-0.2887, -0.2887, -0.2887],\n",
      "         [-0.2887, -0.2887, -0.2887]]])\n",
      "tensor([[[0.2887, 0.2887, 0.2887],\n",
      "         [0.2887, 0.2887, 0.2887]]])\n"
     ]
    }
   ],
   "source": [
    "import torch\n",
    "\n",
    "def chamfer_distance(S1, S2):\n",
    "    \"\"\"\n",
    "    Compute the Chamfer distance between two sets of 3D points.\n",
    "    \n",
    "    Parameters:\n",
    "    S1: torch.Tensor of shape (1, N, 3) with requires_grad=True\n",
    "    S2: torch.Tensor of shape (1, N, 3) with requires_grad=True\n",
    "    \n",
    "    Returns:\n",
    "    torch.Tensor: Chamfer distance with requires_grad=True\n",
    "    \"\"\"\n",
    "    # Expand the dimensions of S1 and S2 for broadcasting\n",
    "    print(f'S1.requires_grad: {S1.requires_grad}')\n",
    "    print(f'S2.requires_grad: {S2.requires_grad}')\n",
    "    S1_expand = S1.unsqueeze(2)  # Shape: (1, N, 1, 3)\n",
    "    S2_expand = S2.unsqueeze(1)  # Shape: (1, 1, N, 3)\n",
    "\n",
    "    # Compute pairwise distances between points in S1 and S2\n",
    "    dists = torch.norm(S1_expand - S2_expand, dim=-1)  # Shape: (1, N, N)\n",
    "    \n",
    "    # For each point in S1, find the nearest point in S2\n",
    "    min_dist_S1_to_S2, _ = torch.min(dists, dim=2)  # Shape: (1, N)\n",
    "    \n",
    "    # For each point in S2, find the nearest point in S1\n",
    "    min_dist_S2_to_S1, _ = torch.min(dists, dim=1)  # Shape: (1, N)\n",
    "    \n",
    "    # Sum of minimum distances\n",
    "    chamfer_dist = min_dist_S1_to_S2.mean() + min_dist_S2_to_S1.mean()\n",
    "    \n",
    "    return chamfer_dist\n",
    "\n",
    "# Example usage with backpropagation\n",
    "# Generate some example data\n",
    "\n",
    "S1 = torch.tensor([[0, 0, 0], [1, 1, 1]], dtype=torch.float32).unsqueeze(0)  # Shape: (1, 2, 3)\n",
    "S2 = torch.tensor([[1, 1, 1], [2, 2, 2]], dtype=torch.float32).unsqueeze(0)  # Shape: (1, 2, 3)\n",
    "\n",
    "# Ensure the tensors require gradients\n",
    "S1.requires_grad_(True)\n",
    "S2.requires_grad_(True)\n",
    "\n",
    "# Compute Chamfer Distance\n",
    "loss = chamfer_distance(S1, S2)\n",
    "\n",
    "# Perform backpropagation\n",
    "loss.backward()\n",
    "\n",
    "# Check the gradients\n",
    "print(S1.grad)\n",
    "print(S2.grad)\n"
   ]
  },
  {
   "cell_type": "code",
   "execution_count": null,
   "metadata": {},
   "outputs": [],
   "source": []
  }
 ],
 "metadata": {
  "kernelspec": {
   "display_name": "pytorch3d",
   "language": "python",
   "name": "python3"
  },
  "language_info": {
   "codemirror_mode": {
    "name": "ipython",
    "version": 3
   },
   "file_extension": ".py",
   "mimetype": "text/x-python",
   "name": "python",
   "nbconvert_exporter": "python",
   "pygments_lexer": "ipython3",
   "version": "3.9.18"
  }
 },
 "nbformat": 4,
 "nbformat_minor": 2
}
